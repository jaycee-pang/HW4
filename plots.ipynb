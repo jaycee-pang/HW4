{
 "cells": [
  {
   "cell_type": "code",
   "execution_count": null,
   "metadata": {},
   "outputs": [],
   "source": [
    "import pandas as pd\n",
    "import numpy as np\n",
    "import matplotlib.pyplot as plt"
   ]
  },
  {
   "cell_type": "code",
   "execution_count": null,
   "metadata": {},
   "outputs": [],
   "source": [
    "def read_data(filename):\n",
    "    \"\"\"read in data txt files as lists\n",
    "    example file: \n",
    "    100 10 (seconds wall time)\n",
    "    1000 time ... \n",
    "    \"\"\"\n",
    "    problem_sizes = [] # ie. N=100, 500, 1000, 10000, ... etc. \n",
    "    results = [] # type in timed reuslts \n",
    "    with open(filename, 'r') as f: \n",
    "        for line in f: \n",
    "            data = line.split()\n",
    "            problem_sizes.append(int(data[0]))\n",
    "            results.append(float(data[1]))\n",
    "    f.close() \n",
    "    return problem_sizes, results"
   ]
  },
  {
   "cell_type": "code",
   "execution_count": null,
   "metadata": {},
   "outputs": [],
   "source": [
    "def read_data2(filename):\n",
    "    \"\"\"read in data txt files as lists\n",
    "    example file: \n",
    "    matrix size time    residual norm \n",
    "    \"\"\"\n",
    "    problem_sizes = [] # ie. N=100, 500, 1000, 10000, ... etc. \n",
    "    elapsed_times = [] # type in timed reuslts \n",
    "    residual_norms = [] \n",
    "\n",
    "    with open(filename, 'r') as f: \n",
    "        for line in f: \n",
    "            data = line.split()\n",
    "            problem_sizes.append(int(data[0]))\n",
    "            elapsed_times.append(float(data[1]))\n",
    "            residual_norms.append(float(data[2]))\n",
    "    f.close() \n",
    "    return problem_sizes, elapsed_times, residual_norms"
   ]
  },
  {
   "cell_type": "code",
   "execution_count": null,
   "metadata": {},
   "outputs": [],
   "source": []
  }
 ],
 "metadata": {
  "language_info": {
   "name": "python"
  }
 },
 "nbformat": 4,
 "nbformat_minor": 2
}
